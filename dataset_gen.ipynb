{
 "cells": [
  {
   "cell_type": "code",
   "execution_count": 1,
   "metadata": {},
   "outputs": [],
   "source": [
    "import pandas as pd\n",
    "from pdf2img import *\n",
    "import os\n",
    "import fitz"
   ]
  },
  {
   "cell_type": "code",
   "execution_count": 3,
   "metadata": {},
   "outputs": [],
   "source": [
    "DIR  = \"./dataset/Material por ID/\"\n",
    "FILTERED_DIR = \"./dataset/filtered/\" "
   ]
  },
  {
   "cell_type": "code",
   "execution_count": 2,
   "metadata": {},
   "outputs": [],
   "source": [
    "def create_dataset(file : str) -> pd.DataFrame:\n",
    "    \"\"\"\n",
    "    Opens a file that contains the raw dataset, performs data cleaning and returns a cleaned version.\n",
    "    \"\"\"\n",
    "    \n",
    "    df = pd.read_csv(file)\n",
    "    \n",
    "    df.drop(labels=[\"Guia/Refe\",\"Catedra\",\"Carrera/Facultad\",\"Resuelto\",\"Año\"], axis = 1, inplace= True)\n",
    "    df.rename(columns={\"Link\":\"Nombre\"}, inplace= True)\n",
    "    df.rename(columns={\"Unnamed: 13\":\"Link\"}, inplace= True)\n",
    "    df.dropna(subset=\"Link\", inplace=True)\n",
    "    df.dropna(subset=\"Materia\", inplace=True)\n",
    "\n",
    "    indices = df[df[\"Materia\"].str.contains(\"quimica\", case=False)].index\n",
    "    df[df[\"Materia\"].str.contains(\"arquitectura\", case=False)].index\n",
    "    df.drop(index= indices, inplace= True)\n",
    "    indices = df[df[\"Materia\"].str.contains(\"arquitectura\", case=False)].index\n",
    "    df.drop(index= indices, inplace= True)\n",
    "    return df"
   ]
  },
  {
   "cell_type": "code",
   "execution_count": 3,
   "metadata": {},
   "outputs": [],
   "source": [
    "df = create_dataset('./Copia de Base de Material - Rucon - Base de datos (1).csv')\n"
   ]
  },
  {
   "cell_type": "code",
   "execution_count": 4,
   "metadata": {},
   "outputs": [],
   "source": [
    "data_subset = df[df['Nombre'].isin(os.listdir(\"./dataset/Material por ID/\"))]"
   ]
  },
  {
   "cell_type": "markdown",
   "metadata": {},
   "source": [
    "# saving the filtered files"
   ]
  },
  {
   "cell_type": "code",
   "execution_count": 8,
   "metadata": {},
   "outputs": [],
   "source": [
    "import shutil"
   ]
  },
  {
   "cell_type": "code",
   "execution_count": 9,
   "metadata": {},
   "outputs": [],
   "source": [
    "for file_name in data_subset['Nombre']:\n",
    "    file_path = os.path.join(\"./dataset/Material por ID/\", file_name)\n",
    "    if os.path.isfile(file_path):\n",
    "        shutil.copy(file_path, \"./dataset/filtered/\")"
   ]
  },
  {
   "cell_type": "markdown",
   "metadata": {},
   "source": [
    "# labeling"
   ]
  },
  {
   "cell_type": "code",
   "execution_count": null,
   "metadata": {},
   "outputs": [],
   "source": [
    "import os\n",
    "import pandas as pd\n",
    "import fitz\n",
    "from concurrent.futures import ThreadPoolExecutor, ProcessPoolExecutor"
   ]
  },
  {
   "cell_type": "code",
   "execution_count": 6,
   "metadata": {},
   "outputs": [],
   "source": [
    "\n",
    "\n",
    "# Paths and constants\n",
    "OUTPUT_DIR = \"dataset/images/\"\n",
    "\n",
    "\n",
    "# Function to process each PDF file\n",
    "def process_pdf(file_name):\n",
    "    if file_name.endswith('.pdf'):\n",
    "        pdf_path = os.path.join(FILTERED_DIR, file_name)\n",
    "        dir_name = get_file_name(pdf_path)\n",
    "\n",
    "        # Convert PDF to images and extract labels\n",
    "        #pdf2_png(pdf_path, OUTPUT_DIR, dir_name)\n",
    "        labels = get_labels(df, f\"{dir_name}.pdf\")\n",
    "\n",
    "        return {\n",
    "            'ImageName': dir_name,\n",
    "            'Level': labels[0],\n",
    "            'University': labels[1],\n",
    "            'Math Subject': labels[2],\n",
    "            'Course': labels[3],\n",
    "            'Type': labels[4],\n",
    "            'Annotation': labels[5]\n",
    "        }\n",
    "\n",
    "# Process PDFs concurrently\n",
    "image_labels = []\n",
    "with ThreadPoolExecutor() as executor:\n",
    "    results = executor.map(process_pdf, os.listdir(FILTERED_DIR))\n",
    "    for result in results:\n",
    "        if result:\n",
    "            image_labels.append(result)\n",
    "\n",
    "# Convert the list of dictionaries to a DataFrame\n",
    "labels_df = pd.DataFrame(image_labels)\n",
    "\n",
    "# Save the DataFrame to a CSV file\n",
    "labels_df.to_csv(\"./dataset/labels.csv\", index=False)\n"
   ]
  },
  {
   "cell_type": "code",
   "execution_count": 5,
   "metadata": {},
   "outputs": [
    {
     "ename": "TypeError",
     "evalue": "string indices must be integers, not 'str'",
     "output_type": "error",
     "traceback": [
      "\u001b[1;31m---------------------------------------------------------------------------\u001b[0m",
      "\u001b[1;31m_RemoteTraceback\u001b[0m                          Traceback (most recent call last)",
      "\u001b[1;31m_RemoteTraceback\u001b[0m: \n\"\"\"\nTraceback (most recent call last):\n  File \"C:\\Program Files\\Python311\\Lib\\concurrent\\futures\\process.py\", line 256, in _process_worker\n    r = call_item.fn(*call_item.args, **call_item.kwargs)\n        ^^^^^^^^^^^^^^^^^^^^^^^^^^^^^^^^^^^^^^^^^^^^^^^^^\n  File \"C:\\Program Files\\Python311\\Lib\\concurrent\\futures\\process.py\", line 205, in _process_chunk\n    return [fn(*args) for args in chunk]\n           ^^^^^^^^^^^^^^^^^^^^^^^^^^^^^\n  File \"C:\\Program Files\\Python311\\Lib\\concurrent\\futures\\process.py\", line 205, in <listcomp>\n    return [fn(*args) for args in chunk]\n            ^^^^^^^^^\n  File \"c:\\Users\\Usuario\\Documents\\uba_abraham\\RUCON\\pdf2img.py\", line 57, in process_pdf\n    labels = get_labels(df, f\"{dir_name}.pdf\")\n             ^^^^^^^^^^^^^^^^^^^^^^^^^^^^^^^^^\n  File \"c:\\Users\\Usuario\\Documents\\uba_abraham\\RUCON\\pdf2img.py\", line 28, in get_labels\n    return tuple(df[df['Nombre'] == file_name].to_numpy().flatten()[1:-2])\n                    ~~^^^^^^^^^^\nTypeError: string indices must be integers, not 'str'\n\"\"\"",
      "\nThe above exception was the direct cause of the following exception:\n",
      "\u001b[1;31mTypeError\u001b[0m                                 Traceback (most recent call last)",
      "Cell \u001b[1;32mIn[5], line 5\u001b[0m\n\u001b[0;32m      2\u001b[0m \u001b[39mwith\u001b[39;00m ProcessPoolExecutor() \u001b[39mas\u001b[39;00m executor:\n\u001b[0;32m      3\u001b[0m     results \u001b[39m=\u001b[39m executor\u001b[39m.\u001b[39mmap(process_pdf, os\u001b[39m.\u001b[39mlistdir(FILTERED_DIR), df)\n\u001b[1;32m----> 5\u001b[0m     \u001b[39mfor\u001b[39;00m result \u001b[39min\u001b[39;00m results:\n\u001b[0;32m      6\u001b[0m         \u001b[39mprint\u001b[39m(result)\n\u001b[0;32m      7\u001b[0m         \u001b[39mif\u001b[39;00m result:\n",
      "File \u001b[1;32mC:\\Program Files\\Python311\\Lib\\concurrent\\futures\\process.py:602\u001b[0m, in \u001b[0;36m_chain_from_iterable_of_lists\u001b[1;34m(iterable)\u001b[0m\n\u001b[0;32m    596\u001b[0m \u001b[39mdef\u001b[39;00m \u001b[39m_chain_from_iterable_of_lists\u001b[39m(iterable):\n\u001b[0;32m    597\u001b[0m \u001b[39m    \u001b[39m\u001b[39m\"\"\"\u001b[39;00m\n\u001b[0;32m    598\u001b[0m \u001b[39m    Specialized implementation of itertools.chain.from_iterable.\u001b[39;00m\n\u001b[0;32m    599\u001b[0m \u001b[39m    Each item in *iterable* should be a list.  This function is\u001b[39;00m\n\u001b[0;32m    600\u001b[0m \u001b[39m    careful not to keep references to yielded objects.\u001b[39;00m\n\u001b[0;32m    601\u001b[0m \u001b[39m    \"\"\"\u001b[39;00m\n\u001b[1;32m--> 602\u001b[0m     \u001b[39mfor\u001b[39;00m element \u001b[39min\u001b[39;00m iterable:\n\u001b[0;32m    603\u001b[0m         element\u001b[39m.\u001b[39mreverse()\n\u001b[0;32m    604\u001b[0m         \u001b[39mwhile\u001b[39;00m element:\n",
      "File \u001b[1;32mC:\\Program Files\\Python311\\Lib\\concurrent\\futures\\_base.py:619\u001b[0m, in \u001b[0;36mExecutor.map.<locals>.result_iterator\u001b[1;34m()\u001b[0m\n\u001b[0;32m    616\u001b[0m \u001b[39mwhile\u001b[39;00m fs:\n\u001b[0;32m    617\u001b[0m     \u001b[39m# Careful not to keep a reference to the popped future\u001b[39;00m\n\u001b[0;32m    618\u001b[0m     \u001b[39mif\u001b[39;00m timeout \u001b[39mis\u001b[39;00m \u001b[39mNone\u001b[39;00m:\n\u001b[1;32m--> 619\u001b[0m         \u001b[39myield\u001b[39;00m _result_or_cancel(fs\u001b[39m.\u001b[39;49mpop())\n\u001b[0;32m    620\u001b[0m     \u001b[39melse\u001b[39;00m:\n\u001b[0;32m    621\u001b[0m         \u001b[39myield\u001b[39;00m _result_or_cancel(fs\u001b[39m.\u001b[39mpop(), end_time \u001b[39m-\u001b[39m time\u001b[39m.\u001b[39mmonotonic())\n",
      "File \u001b[1;32mC:\\Program Files\\Python311\\Lib\\concurrent\\futures\\_base.py:317\u001b[0m, in \u001b[0;36m_result_or_cancel\u001b[1;34m(***failed resolving arguments***)\u001b[0m\n\u001b[0;32m    315\u001b[0m \u001b[39mtry\u001b[39;00m:\n\u001b[0;32m    316\u001b[0m     \u001b[39mtry\u001b[39;00m:\n\u001b[1;32m--> 317\u001b[0m         \u001b[39mreturn\u001b[39;00m fut\u001b[39m.\u001b[39;49mresult(timeout)\n\u001b[0;32m    318\u001b[0m     \u001b[39mfinally\u001b[39;00m:\n\u001b[0;32m    319\u001b[0m         fut\u001b[39m.\u001b[39mcancel()\n",
      "File \u001b[1;32mC:\\Program Files\\Python311\\Lib\\concurrent\\futures\\_base.py:456\u001b[0m, in \u001b[0;36mFuture.result\u001b[1;34m(self, timeout)\u001b[0m\n\u001b[0;32m    454\u001b[0m     \u001b[39mraise\u001b[39;00m CancelledError()\n\u001b[0;32m    455\u001b[0m \u001b[39melif\u001b[39;00m \u001b[39mself\u001b[39m\u001b[39m.\u001b[39m_state \u001b[39m==\u001b[39m FINISHED:\n\u001b[1;32m--> 456\u001b[0m     \u001b[39mreturn\u001b[39;00m \u001b[39mself\u001b[39;49m\u001b[39m.\u001b[39;49m__get_result()\n\u001b[0;32m    457\u001b[0m \u001b[39melse\u001b[39;00m:\n\u001b[0;32m    458\u001b[0m     \u001b[39mraise\u001b[39;00m \u001b[39mTimeoutError\u001b[39;00m()\n",
      "File \u001b[1;32mC:\\Program Files\\Python311\\Lib\\concurrent\\futures\\_base.py:401\u001b[0m, in \u001b[0;36mFuture.__get_result\u001b[1;34m(self)\u001b[0m\n\u001b[0;32m    399\u001b[0m \u001b[39mif\u001b[39;00m \u001b[39mself\u001b[39m\u001b[39m.\u001b[39m_exception:\n\u001b[0;32m    400\u001b[0m     \u001b[39mtry\u001b[39;00m:\n\u001b[1;32m--> 401\u001b[0m         \u001b[39mraise\u001b[39;00m \u001b[39mself\u001b[39m\u001b[39m.\u001b[39m_exception\n\u001b[0;32m    402\u001b[0m     \u001b[39mfinally\u001b[39;00m:\n\u001b[0;32m    403\u001b[0m         \u001b[39m# Break a reference cycle with the exception in self._exception\u001b[39;00m\n\u001b[0;32m    404\u001b[0m         \u001b[39mself\u001b[39m \u001b[39m=\u001b[39m \u001b[39mNone\u001b[39;00m\n",
      "\u001b[1;31mTypeError\u001b[0m: string indices must be integers, not 'str'"
     ]
    }
   ],
   "source": [
    "if __name__ == \"__main__\":\n",
    "    with ProcessPoolExecutor() as executor:\n",
    "        results = executor.map(process_pdf, os.listdir(FILTERED_DIR), df)\n",
    "        \n",
    "        for result in results:\n",
    "            print(result)\n",
    "            if result:\n",
    "                image_labels.append(result)\n",
    "\n",
    "    # Convert the list of dictionaries to a DataFrame\n",
    "    labels_df = pd.DataFrame(image_labels)\n",
    "\n",
    "    # Save the DataFrame to a CSV file\n",
    "    labels_df.to_csv(\"./dataset/labels.csv\", index=False)\n"
   ]
  }
 ],
 "metadata": {
  "kernelspec": {
   "display_name": "venv",
   "language": "python",
   "name": "python3"
  },
  "language_info": {
   "codemirror_mode": {
    "name": "ipython",
    "version": 3
   },
   "file_extension": ".py",
   "mimetype": "text/x-python",
   "name": "python",
   "nbconvert_exporter": "python",
   "pygments_lexer": "ipython3",
   "version": "3.11.4"
  },
  "orig_nbformat": 4
 },
 "nbformat": 4,
 "nbformat_minor": 2
}
